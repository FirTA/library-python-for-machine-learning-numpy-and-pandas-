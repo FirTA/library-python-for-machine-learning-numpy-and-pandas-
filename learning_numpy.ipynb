{
 "cells": [
  {
   "cell_type": "code",
   "execution_count": 47,
   "metadata": {},
   "outputs": [],
   "source": [
    "import numpy as np"
   ]
  },
  {
   "cell_type": "code",
   "execution_count": 48,
   "metadata": {},
   "outputs": [
    {
     "name": "stdout",
     "output_type": "stream",
     "text": [
      "Single-dimensional Array\n",
      " [10 20 30]\n",
      "<class 'numpy.ndarray'>\n",
      "\n",
      "Multi-dimensional Array\n",
      " [[10 20 30]\n",
      " [40 50 60]]\n",
      "<class 'numpy.ndarray'>\n"
     ]
    }
   ],
   "source": [
    "# Single-dimensional Array\n",
    "\n",
    "np1 = np.array([10,20,30])\n",
    "print(\"Single-dimensional Array\\n\",np1)\n",
    "print(type(np1))\n",
    "print()\n",
    "\n",
    "# Multi-dimensional Array\n",
    "\n",
    "np2 = np.array([[10,20,30],[40,50,60]])\n",
    "print(\"Multi-dimensional Array\\n\",np2)\n",
    "print(type(np2))\n"
   ]
  },
  {
   "cell_type": "code",
   "execution_count": 49,
   "metadata": {},
   "outputs": [
    {
     "name": "stdout",
     "output_type": "stream",
     "text": [
      "[[0. 0.]]\n",
      "\n",
      "[[0. 0. 0. 0. 0.]\n",
      " [0. 0. 0. 0. 0.]\n",
      " [0. 0. 0. 0. 0.]\n",
      " [0. 0. 0. 0. 0.]\n",
      " [0. 0. 0. 0. 0.]]\n"
     ]
    }
   ],
   "source": [
    "# Creating Numpy Array with zeros\n",
    "np1 = np.zeros((1,2)) # (1,2) shape\n",
    "print(np1)\n",
    "print()\n",
    "np1 = np.zeros((5,5)) # (5,5) shape\n",
    "print(np1)"
   ]
  },
  {
   "cell_type": "code",
   "execution_count": 50,
   "metadata": {},
   "outputs": [
    {
     "name": "stdout",
     "output_type": "stream",
     "text": [
      "[[10 10]\n",
      " [10 10]]\n",
      "[[10  5  2]\n",
      " [10  5  2]]\n"
     ]
    }
   ],
   "source": [
    "# Create Numpy Array with same number\n",
    "\n",
    "np1 = np.full((2,2),10) # (2,2) is shape , 10 is value\n",
    "print(np1)\n",
    "\n",
    "np1 = np.full((2,3),[10,5,2]) # (2,3) is shape\n",
    "                               # [10,5,2] is value depend the colunmn\n",
    "print(np1)\n"
   ]
  },
  {
   "cell_type": "code",
   "execution_count": 51,
   "metadata": {},
   "outputs": [
    {
     "name": "stdout",
     "output_type": "stream",
     "text": [
      "[10 11 12 13 14 15 16 17 18 19]\n",
      "[  1  28  55  82 109 136 163 190 217 244 271 298]\n"
     ]
    }
   ],
   "source": [
    "# Create Numpy Array within a range\n",
    "\n",
    "n1 = np.arange(10,20) # 10 start\n",
    "                      # 20 the end but it not included, the last will be 19\n",
    "print(n1)\n",
    "\n",
    "n1 = np.arange(1,300,27)  # 1 start, 300 end, 27 is interval each value\n",
    "print(n1)"
   ]
  },
  {
   "cell_type": "code",
   "execution_count": 52,
   "metadata": {},
   "outputs": [
    {
     "name": "stdout",
     "output_type": "stream",
     "text": [
      "[58 33  1 45 90 65 92 10 68]\n"
     ]
    }
   ],
   "source": [
    "# Create Numpy Array with random numbers\n",
    "\n",
    "np1 = np.random.randint(1,100,9)  # the random number is in range 1 - 100, take 9 number\n",
    "print(np1)"
   ]
  },
  {
   "cell_type": "code",
   "execution_count": 53,
   "metadata": {},
   "outputs": [
    {
     "name": "stdout",
     "output_type": "stream",
     "text": [
      "[[1 2 3]\n",
      " [5 6 4]] \n",
      " shape :  (2, 3)\n",
      "[[1 2]\n",
      " [3 5]\n",
      " [6 4]] \n",
      " shape :  (3, 2)\n"
     ]
    }
   ],
   "source": [
    "# Check the shape\n",
    "\n",
    "np1 = np.array([[1,2,3],[5,6,4]])\n",
    "print(np1, \"\\n\", \"shape : \",np1.shape)\n",
    "\n",
    "# change the shape\n",
    "np1.shape = (3,2)\n",
    "print(np1, \"\\n\",\"shape : \", np1.shape)"
   ]
  },
  {
   "cell_type": "code",
   "execution_count": 57,
   "metadata": {},
   "outputs": [
    {
     "name": "stdout",
     "output_type": "stream",
     "text": [
      "vstack() \n",
      " => [[1 2 3]\n",
      " [9 8 7]]\n",
      "hstack() \n",
      " => [1 2 3 9 8 7]\n",
      "column_stack() \n",
      " => [[1 9]\n",
      " [2 8]\n",
      " [3 7]]\n"
     ]
    }
   ],
   "source": [
    "# Joining Numpy Array\n",
    "\n",
    "np1 = np.array([1,2,3])\n",
    "np2 = np.array([9,8,7])\n",
    "\n",
    "# vstack() => vertical stack\n",
    "np3 = np.vstack((np1,np2))\n",
    "print(\"vstack() \\n =>\",np3)\n",
    "\n",
    "# hstack() => horizontal stack\n",
    "np3 = np.hstack((np1,np2))\n",
    "print(\"hstack() \\n =>\",np3)\n",
    "\n",
    "# column_stack\n",
    "np3 = np.column_stack((np1,np2))\n",
    "print(\"column_stack() \\n =>\",np3)\n"
   ]
  },
  {
   "cell_type": "code",
   "execution_count": 63,
   "metadata": {},
   "outputs": [
    {
     "name": "stdout",
     "output_type": "stream",
     "text": [
      "Intersection n1 to n2 => [40 60]\n",
      "Intersection n1 to n2 => [40 60]\n",
      "Difference n1 to n2 => [10 20 30 50]\n",
      "Difference n2 to n1 => [70 80 90]\n"
     ]
    }
   ],
   "source": [
    "# Nmpy Intersection & Difference\n",
    "\n",
    "# its return new array\n",
    "# Intersection is the same number of 2 arrays\n",
    "# Difference is as like the name the difference of 2 arrays\n",
    "\n",
    "n1 = np.array([10,20,30,40,50,60])\n",
    "n2 = np.array([40,60,70,80,90])\n",
    "\n",
    "# Intersection\n",
    "\n",
    "np3 = np.intersect1d(n1,n2)   # interseciton from n1 to n2\n",
    "print(\"Intersection n1 to n2 =>\",np3)\n",
    "\n",
    "np3 = np.intersect1d(n2,n1)   # interseciton from n1 to n2\n",
    "print(\"Intersection n1 to n2 =>\",np3)   # same result as before\n",
    "\n",
    "\n",
    "# Difference\n",
    "np3 = np.setdiff1d(n1,n2)   # difference n1 to n2\n",
    "print(\"Difference n1 to n2 =>\",np3)\n",
    "\n",
    "np3 = np.setdiff1d(n2,n1)   # difference n2 to n1\n",
    "print(\"Difference n2 to n1 =>\",np3)\n",
    "\n"
   ]
  },
  {
   "cell_type": "code",
   "execution_count": 83,
   "metadata": {},
   "outputs": [
    {
     "name": "stdout",
     "output_type": "stream",
     "text": [
      "[10 20]\n",
      "[80 90]\n",
      "[80 90]\n",
      "sum all => 370\n",
      "sum with axis 0 => [ 90 110]\n",
      "sum with axis 1 => [ 30 170]\n",
      "\n",
      "=== With multi-dimension array ===\n",
      "[[10 20]\n",
      " [ 3  5]]\n",
      "[[80 90]\n",
      " [ 8  9]]\n",
      "[[80 90]\n",
      " [ 9  8]]\n",
      "sum all => 412\n",
      "sum with axis 0 => [[ 90 110]\n",
      " [ 11  14]]\n",
      "sum with axis 1 => [[13 25]\n",
      " [88 99]]\n"
     ]
    }
   ],
   "source": [
    "# Addition of NUmpy Arrays\n",
    "\n",
    "np1 = np.array([10,20])\n",
    "np2 = np.array([80,90])\n",
    "np3 = np.array([80,90])\n",
    "print(np1)\n",
    "print(np2)\n",
    "print(np3)\n",
    "\n",
    "np4 = np.sum([np1,np2,np3])  # this to sum the all array\n",
    "print(\"sum all =>\", np4)\n",
    "\n",
    "np4 = np.sum([np1,np2],axis=0)  # column\n",
    "print(\"sum with axis 0 =>\", np4) \n",
    "\n",
    "np4 = np.sum([np1,np2],axis=1)  # row\n",
    "print(\"sum with axis 1 =>\", np4)\n",
    "\n",
    "\n",
    "print(\"\\n=== With multi-dimension array ===\")\n",
    "# try with multidimension array\n",
    "\n",
    "np1 = np.array([[10,20],[3,5]])\n",
    "np2 = np.array([[80,90],[8,9]])\n",
    "np3 = np.array([[80,90],[9,8]])\n",
    "print(np1)\n",
    "print(np2)\n",
    "print(np3)\n",
    "\n",
    "np4 = np.sum([np1,np2,np3])  # this to sum the all array\n",
    "print(\"sum all =>\", np4)\n",
    "\n",
    "np4 = np.sum([np1,np2],axis=0)  # column\n",
    "print(\"sum with axis 0 =>\", np4) \n",
    "\n",
    "np4 = np.sum([np1,np2],axis=1)  # row\n",
    "print(\"sum with axis 1 =>\", np4)"
   ]
  },
  {
   "cell_type": "code",
   "execution_count": 92,
   "metadata": {},
   "outputs": [
    {
     "name": "stdout",
     "output_type": "stream",
     "text": [
      "+2 => [12 22 42]\n",
      "-2 => [ 8 18 38]\n",
      "*2 => [20 40 80]\n",
      "%2 => [0 0 0]\n",
      "/2 => [ 5. 10. 20.]\n",
      "**2 => [ 100  400 1600]\n"
     ]
    }
   ],
   "source": [
    "# Numpy Array Mathematic\n",
    "\n",
    "\n",
    "np1 = np.array([10,20,40])\n",
    "\n",
    "# Basic Addition\n",
    "np2 = np1+2\n",
    "print(\"+2 =>\", np2)\n",
    "\n",
    "np3= np1-2\n",
    "print(\"-2 =>\",np3)\n",
    "\n",
    "np4= np1*2\n",
    "print(\"*2 =>\",np4)\n",
    "\n",
    "np5= np1%2\n",
    "print(\"%2 =>\",np5)\n",
    "\n",
    "np6 = np1/2\n",
    "print(\"/2 =>\",np6)\n",
    "\n",
    "np7= np1**2\n",
    "print(\"**2 =>\",np7)\n",
    "\n",
    "\n"
   ]
  },
  {
   "cell_type": "code",
   "execution_count": 93,
   "metadata": {},
   "outputs": [
    {
     "name": "stdout",
     "output_type": "stream",
     "text": [
      "mean =>  34.0\n",
      "median =>  30.0\n",
      "std =>  18.547236990991408\n"
     ]
    }
   ],
   "source": [
    "# Numpy Math Function\n",
    "\n",
    "np1 = np.array([10,20,30,50,60])\n",
    "\n",
    "# Mean \n",
    "npr = np.mean(np1)\n",
    "print(\"mean => \",npr)\n",
    "\n",
    "# Median \n",
    "npr = np.median(np1)\n",
    "print(\"median => \",npr)\n",
    "\n",
    "# Standard Deviation \n",
    "npr = np.std(np1)\n",
    "print(\"std => \",npr)\n"
   ]
  },
  {
   "cell_type": "code",
   "execution_count": 94,
   "metadata": {},
   "outputs": [],
   "source": [
    "# Saving and Loading Numpy Array\n",
    "\n",
    "np1 = np.array([10,20,30,40,50,60])\n",
    "\n",
    "np.save(\"final_numpy_array\", np1)"
   ]
  },
  {
   "cell_type": "markdown",
   "metadata": {},
   "source": [
    "if you execute the code before check the directory the numpy file will show"
   ]
  },
  {
   "cell_type": "code",
   "execution_count": 95,
   "metadata": {},
   "outputs": [
    {
     "name": "stdout",
     "output_type": "stream",
     "text": [
      "[10 20 30 40 50 60]\n"
     ]
    }
   ],
   "source": [
    "np2 = np.load(\"final_numpy_array.npy\")\n",
    "print(np2)"
   ]
  }
 ],
 "metadata": {
  "kernelspec": {
   "display_name": "Python 3",
   "language": "python",
   "name": "python3"
  },
  "language_info": {
   "codemirror_mode": {
    "name": "ipython",
    "version": 3
   },
   "file_extension": ".py",
   "mimetype": "text/x-python",
   "name": "python",
   "nbconvert_exporter": "python",
   "pygments_lexer": "ipython3",
   "version": "3.10.8 (tags/v3.10.8:aaaf517, Oct 11 2022, 16:50:30) [MSC v.1933 64 bit (AMD64)]"
  },
  "orig_nbformat": 4,
  "vscode": {
   "interpreter": {
    "hash": "b6c1b03491274db78edbf399774f02ce127dc45676627776a092fc376f583ae1"
   }
  }
 },
 "nbformat": 4,
 "nbformat_minor": 2
}
